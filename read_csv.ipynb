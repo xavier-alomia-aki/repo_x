{
 "cells": [
  {
   "cell_type": "code",
   "execution_count": 3,
   "metadata": {},
   "outputs": [],
   "source": [
    "import math \n",
    "import pandas as pd"
   ]
  },
  {
   "cell_type": "code",
   "execution_count": 5,
   "metadata": {},
   "outputs": [],
   "source": [
    "df = pd.read_csv('/users/xavieralomia/Desktop/stores_by_dma.csv')"
   ]
  },
  {
   "cell_type": "code",
   "execution_count": 6,
   "metadata": {},
   "outputs": [
    {
     "data": {
      "text/plain": [
       "(205, 4)"
      ]
     },
     "execution_count": 6,
     "metadata": {},
     "output_type": "execute_result"
    }
   ],
   "source": [
    "df.shape"
   ]
  },
  {
   "cell_type": "code",
   "execution_count": 8,
   "metadata": {},
   "outputs": [
    {
     "data": {
      "text/plain": [
       "array(['Hartford & New Haven, CT (533)', 'New York, NY (501)',\n",
       "       'Albany-Schenectady-Troy, NY (532)', 'Rochester, NY (538)',\n",
       "       'Pittsburgh, PA (508)',\n",
       "       'Greenville-Spartanburg, SC-Asheville, NC-Anderson,SC (567)',\n",
       "       'Miami-Fort Lauderdale, FL (528)',\n",
       "       'Tampa-St. Petersburg (Sarasota), FL (539)',\n",
       "       'Louisville, KY (529)', 'Chicago, IL (602)',\n",
       "       'New Orleans, LA (622)',\n",
       "       'Harlingen-Weslaco-Brownsville-McAllen, TX (636)',\n",
       "       'Austin, TX (635)', 'Salt Lake City, UT (770)',\n",
       "       'Phoenix, AZ (753)', 'Las Vegas, NV (839)',\n",
       "       'Los Angeles, CA (803)', 'San Diego, CA (825)',\n",
       "       'Sacramento-Stockton-Modesto, CA (862)',\n",
       "       'Boston, MA (Manchester, NH) (506)',\n",
       "       'Providence, RI-New Bedford, MA (521)', 'Philadelphia, PA (504)',\n",
       "       'Baltimore, MD (512)', 'Washington, DC (Hagerstown, MD) (511)',\n",
       "       'Raleigh-Durham (Fayetteville), NC (560)', 'Charlotte, NC (517)',\n",
       "       'Atlanta, GA (524)', 'Orlando-Daytona Beach-Melbourne, FL (534)',\n",
       "       'Birmingham (Anniston and Tuscaloosa), AL (630)',\n",
       "       'Nashville, TN (659)', 'Columbus, OH (535)',\n",
       "       'Cleveland-Akron (Canton), OH (510)', 'Cincinnati, OH (515)',\n",
       "       'Indianapolis, IN (527)', 'Detroit, MI (505)',\n",
       "       'Milwaukee, WI (617)', 'Minneapolis-St. Paul, MN (613)',\n",
       "       'St. Louis, MO (609)', 'Kansas City, MO (616)',\n",
       "       'Oklahoma City, OK (650)', 'Dallas-Ft. Worth, TX (623)',\n",
       "       'Houston, TX (618)', 'San Antonio, TX (641)', 'Denver, CO (751)',\n",
       "       'San Francisco-Oakland-San Jose, CA (807)', 'Portland, OR (820)',\n",
       "       'Seattle-Tacoma, WA (819)', 'Springfield-Holyoke, MA (543)',\n",
       "       'Burlington, VT-Plattsburgh, NY (523)',\n",
       "       'Portland-Auburn, ME (500)', 'Bangor, ME (537)',\n",
       "       'Presque Isle, ME (552)', 'Syracuse, NY (555)', 'Utica, NY (526)',\n",
       "       'Watertown, NY (549)', 'Binghamton, NY (502)', 'Buffalo, NY (514)',\n",
       "       'Elmira, NY (565)', 'Johnstown-Altoona, PA (574)',\n",
       "       'Youngstown, OH (536)', 'Erie, PA (516)',\n",
       "       'Harrisburg-Lancaster-Lebanon-York, PA (566)',\n",
       "       'Wilkes Barre-Scranton, PA (577)', 'Salisbury, MD (576)',\n",
       "       'Richmond-Petersburg, VA (556)', 'Harrisonburg, VA (569)',\n",
       "       'Charlottesville, VA (584)',\n",
       "       'Norfolk-Portsmouth-Newport News, VA (544)',\n",
       "       'Roanoke-Lynchburg, VA (573)',\n",
       "       'Greensboro-High Point-Winston Salem, NC (518)',\n",
       "       'Tri-Cities, TN-VA (531)', 'Bluefield-Beckley-Oak Hill, WV (559)',\n",
       "       'Charleston-Huntington, WV (564)',\n",
       "       'Wheeling, WV-Steubenville, OH (554)', 'Parkersburg, WV (597)',\n",
       "       'Clarksburg-Weston, WV (598)',\n",
       "       'Greenville-New Bern-Washington, NC (545)', 'Wilmington, NC (550)',\n",
       "       'Myrtle Beach-Florence, SC (570)', 'Chattanooga, TN (575)',\n",
       "       'Columbia, SC (546)', 'Charleston, SC (519)', 'Augusta, GA (520)',\n",
       "       'Savannah, GA (507)', 'Macon, GA (503)', 'Albany, GA (525)',\n",
       "       'Jacksonville, FL (561)', 'Tallahassee, FL-Thomasville, GA (530)',\n",
       "       'Columbus, GA (522)', 'Panama City, FL (656)',\n",
       "       'Mobile, AL-Pensacola (Ft. Walton Beach), FL (686)',\n",
       "       'Gainesville, FL (592)', 'West Palm Beach-Ft. Pierce, FL (548)',\n",
       "       'Ft. Myers-Naples, FL (571)', 'Montgomery-Selma, AL (698)',\n",
       "       'Huntsville-Decatur (Florence), AL (691)', 'Dothan, AL (606)',\n",
       "       'Knoxville, TN (557)', 'Memphis, TN (640)',\n",
       "       'Paducah, KY-Cape Girardeau, MO-Harrisburg, IL (632)',\n",
       "       'Jackson, TN (639)', 'Columbus-Tupelo-West Point, MS (673)',\n",
       "       'Greenwood-Greenville, MS (647)', 'Jackson, MS (718)',\n",
       "       'Meridian, MS (711)', 'Hattiesburg-Laurel, MS (710)',\n",
       "       'Biloxi-Gulfport, MS (746)', 'Lexington, KY (541)',\n",
       "       'Bowling Green, KY (736)', 'Evansville, IN (649)',\n",
       "       'Dayton, OH (542)', 'Toledo, OH (547)', 'Zanesville, OH (596)',\n",
       "       'Lima, OH (558)', 'Ft. Wayne, IN (509)',\n",
       "       'South Bend-Elkhart, IN (588)', 'Terre Haute, IN (581)',\n",
       "       'Lafayette, IN (582)', 'Flint-Saginaw-Bay City, MI (513)',\n",
       "       'Traverse City-Cadillac, MI (540)', 'Lansing, MI (551)',\n",
       "       'Grand Rapids-Kalamazoo-Battle Creek, MI (563)',\n",
       "       'Alpena, MI (583)', 'Marquette, MI (553)',\n",
       "       'Duluth, MN-Superior, WI (676)', 'Des Moines-Ames, IA (679)',\n",
       "       'Omaha, NE (652)', 'Rochester, MN-Mason City, IA-Austin, MN (611)',\n",
       "       'Sioux City, IA (624)',\n",
       "       'Cedar Rapids-Waterloo-Iowa City & Dubuque, IA (637)',\n",
       "       'Davenport, IA-Rock Island-Moline, IL (682)',\n",
       "       'Ottumwa, IA-Kirksville, MO (631)',\n",
       "       'Quincy, IL-Hannibal, MO-Keokuk, IA (717)',\n",
       "       'Green Bay-Appleton, WI (658)', 'Madison, WI (669)',\n",
       "       'La Crosse-Eau Claire, WI (702)', 'Wausau-Rhinelander, WI (705)',\n",
       "       'Mankato, MN (737)', 'Sioux Falls (Mitchell), SD (725)',\n",
       "       'Fargo-Valley City, ND (724)', 'Rapid City, SD (764)',\n",
       "       'Minot-Bismarck-Dickinson(Williston), ND (687)',\n",
       "       'Billings, MT (756)', 'Great Falls, MT (755)', 'Helena, MT (766)',\n",
       "       'Butte-Bozeman, MT (754)', 'Missoula, MT (762)',\n",
       "       'Champaign & Springfield-Decatur, IL (648)', 'Rockford, IL (610)',\n",
       "       'Peoria-Bloomington, IL (675)', 'St. Joseph, MO (638)',\n",
       "       'Joplin, MO-Pittsburg, KS (603)', 'Springfield, MO (619)',\n",
       "       'Columbia-Jefferson City, MO (604)', 'Topeka, KS (605)',\n",
       "       'Wichita-Hutchinson, KS Plus (678)', 'Tulsa, OK (671)',\n",
       "       'Lincoln & Hastings-Kearney, NE (722)', 'North Platte, NE (740)',\n",
       "       'Cheyenne, WY-Scottsbluff, NE (759)', 'Baton Rouge, LA (716)',\n",
       "       'Lafayette, LA (642)', 'Lake Charles, LA (643)',\n",
       "       'Shreveport, LA (612)', 'Monroe, LA-El Dorado, AR (628)',\n",
       "       'Alexandria, LA (644)', 'Little Rock-Pine Bluff, AR (693)',\n",
       "       'Jonesboro, AR (734)',\n",
       "       'Ft. Smith-Fayetteville-Springdale-Rogers, AR (670)',\n",
       "       'Sherman, TX-Ada, OK (657)', 'Wichita Falls, TX-Lawton, OK (627)',\n",
       "       'Amarillo, TX (634)',\n",
       "       'Tyler-Longview(Lufkin & Nacogdoches), TX (709)',\n",
       "       'Beaumont-Port Arthur, TX (692)', 'Abilene-Sweetwater, TX (662)',\n",
       "       'Waco-Temple-Bryan, TX (625)', 'San Angelo, TX (661)',\n",
       "       'Victoria, TX (626)', 'Laredo, TX (749)',\n",
       "       'Corpus Christi, TX (600)', 'Lubbock, TX (651)',\n",
       "       'Odessa-Midland, TX (633)', 'El Paso, TX (765)',\n",
       "       'Colorado Springs-Pueblo, CO (752)',\n",
       "       'Albuquerque-Santa Fe, NM (790)',\n",
       "       'Grand Junction-Montrose, CO (773)', 'Casper-Riverton, WY (767)',\n",
       "       'Idaho Falls-Pocatello, ID (758)', 'Twin Falls, ID (760)',\n",
       "       'Boise, ID (757)', 'Spokane, WA (881)',\n",
       "       'Yuma, AZ-El Centro, CA (771)', 'Tucson (Sierra Vista), AZ (789)',\n",
       "       'Reno, NV (811)', 'Palm Springs, CA (804)',\n",
       "       'Bakersfield, CA (800)', 'Fresno-Visalia, CA (866)',\n",
       "       'Santa Barbara-Santa Maria-San Luis Obispo, CA (855)',\n",
       "       'Monterey-Salinas, CA (828)', 'Eureka, CA (802)',\n",
       "       'Chico-Redding, CA (868)', 'Medford-Klamath Falls, OR (813)',\n",
       "       'Eugene, OR (801)', 'Bend, OR (821)',\n",
       "       'Yakima-Pasco-Richland-Kennewick, WA (810)'], dtype=object)"
      ]
     },
     "execution_count": 8,
     "metadata": {},
     "output_type": "execute_result"
    }
   ],
   "source": [
    "df.DMA.unique()"
   ]
  },
  {
   "cell_type": "code",
   "execution_count": null,
   "metadata": {},
   "outputs": [],
   "source": []
  },
  {
   "cell_type": "code",
   "execution_count": null,
   "metadata": {},
   "outputs": [],
   "source": []
  },
  {
   "cell_type": "code",
   "execution_count": null,
   "metadata": {},
   "outputs": [],
   "source": []
  },
  {
   "cell_type": "code",
   "execution_count": null,
   "metadata": {},
   "outputs": [],
   "source": []
  },
  {
   "cell_type": "code",
   "execution_count": null,
   "metadata": {},
   "outputs": [],
   "source": []
  },
  {
   "cell_type": "code",
   "execution_count": null,
   "metadata": {},
   "outputs": [],
   "source": []
  }
 ],
 "metadata": {
  "kernelspec": {
   "display_name": "Python 3",
   "language": "python",
   "name": "python3"
  },
  "language_info": {
   "codemirror_mode": {
    "name": "ipython",
    "version": 3
   },
   "file_extension": ".py",
   "mimetype": "text/x-python",
   "name": "python",
   "nbconvert_exporter": "python",
   "pygments_lexer": "ipython3",
   "version": "3.7.4"
  }
 },
 "nbformat": 4,
 "nbformat_minor": 2
}
